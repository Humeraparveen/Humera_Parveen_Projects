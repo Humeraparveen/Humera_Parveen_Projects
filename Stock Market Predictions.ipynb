{
 "cells": [
  {
   "cell_type": "markdown",
   "id": "10d39867",
   "metadata": {},
   "source": [
    "# Stock Market Prediction¶"
   ]
  },
  {
   "cell_type": "code",
   "execution_count": 2,
   "id": "e9938e16",
   "metadata": {},
   "outputs": [],
   "source": [
    "import numpy as np\n",
    "import pandas as pd\n",
    "import matplotlib.pyplot as plt\n",
    "%matplotlib inline\n",
    "import seaborn as sns"
   ]
  },
  {
   "cell_type": "code",
   "execution_count": 3,
   "id": "a43ef8b9",
   "metadata": {},
   "outputs": [],
   "source": [
    "train=pd.read_csv('NSE Training Data - 1st Jan 2016 to 1st Jan 2022.csv')\n"
   ]
  },
  {
   "cell_type": "code",
   "execution_count": 4,
   "id": "165c8f5d",
   "metadata": {},
   "outputs": [
    {
     "data": {
      "text/html": [
       "<div>\n",
       "<style scoped>\n",
       "    .dataframe tbody tr th:only-of-type {\n",
       "        vertical-align: middle;\n",
       "    }\n",
       "\n",
       "    .dataframe tbody tr th {\n",
       "        vertical-align: top;\n",
       "    }\n",
       "\n",
       "    .dataframe thead th {\n",
       "        text-align: right;\n",
       "    }\n",
       "</style>\n",
       "<table border=\"1\" class=\"dataframe\">\n",
       "  <thead>\n",
       "    <tr style=\"text-align: right;\">\n",
       "      <th></th>\n",
       "      <th>Date</th>\n",
       "      <th>Open</th>\n",
       "      <th>High</th>\n",
       "      <th>Low</th>\n",
       "      <th>Close</th>\n",
       "      <th>Adj Close</th>\n",
       "      <th>Volume</th>\n",
       "    </tr>\n",
       "  </thead>\n",
       "  <tbody>\n",
       "    <tr>\n",
       "      <th>0</th>\n",
       "      <td>2016-01-04</td>\n",
       "      <td>7924.549805</td>\n",
       "      <td>7937.549805</td>\n",
       "      <td>7781.100098</td>\n",
       "      <td>7791.299805</td>\n",
       "      <td>7791.299805</td>\n",
       "      <td>134700.0</td>\n",
       "    </tr>\n",
       "    <tr>\n",
       "      <th>1</th>\n",
       "      <td>2016-01-05</td>\n",
       "      <td>7828.399902</td>\n",
       "      <td>7831.200195</td>\n",
       "      <td>7763.250000</td>\n",
       "      <td>7784.649902</td>\n",
       "      <td>7784.649902</td>\n",
       "      <td>145200.0</td>\n",
       "    </tr>\n",
       "    <tr>\n",
       "      <th>2</th>\n",
       "      <td>2016-01-06</td>\n",
       "      <td>7788.049805</td>\n",
       "      <td>7800.950195</td>\n",
       "      <td>7721.200195</td>\n",
       "      <td>7741.000000</td>\n",
       "      <td>7741.000000</td>\n",
       "      <td>147100.0</td>\n",
       "    </tr>\n",
       "    <tr>\n",
       "      <th>3</th>\n",
       "      <td>2016-01-07</td>\n",
       "      <td>7673.350098</td>\n",
       "      <td>7674.950195</td>\n",
       "      <td>7556.600098</td>\n",
       "      <td>7568.299805</td>\n",
       "      <td>7568.299805</td>\n",
       "      <td>188900.0</td>\n",
       "    </tr>\n",
       "    <tr>\n",
       "      <th>4</th>\n",
       "      <td>2016-01-08</td>\n",
       "      <td>7611.649902</td>\n",
       "      <td>7634.100098</td>\n",
       "      <td>7581.049805</td>\n",
       "      <td>7601.350098</td>\n",
       "      <td>7601.350098</td>\n",
       "      <td>157400.0</td>\n",
       "    </tr>\n",
       "  </tbody>\n",
       "</table>\n",
       "</div>"
      ],
      "text/plain": [
       "         Date         Open         High          Low        Close  \\\n",
       "0  2016-01-04  7924.549805  7937.549805  7781.100098  7791.299805   \n",
       "1  2016-01-05  7828.399902  7831.200195  7763.250000  7784.649902   \n",
       "2  2016-01-06  7788.049805  7800.950195  7721.200195  7741.000000   \n",
       "3  2016-01-07  7673.350098  7674.950195  7556.600098  7568.299805   \n",
       "4  2016-01-08  7611.649902  7634.100098  7581.049805  7601.350098   \n",
       "\n",
       "     Adj Close    Volume  \n",
       "0  7791.299805  134700.0  \n",
       "1  7784.649902  145200.0  \n",
       "2  7741.000000  147100.0  \n",
       "3  7568.299805  188900.0  \n",
       "4  7601.350098  157400.0  "
      ]
     },
     "execution_count": 4,
     "metadata": {},
     "output_type": "execute_result"
    }
   ],
   "source": [
    "train.head()"
   ]
  },
  {
   "cell_type": "code",
   "execution_count": 5,
   "id": "ee9bed8d",
   "metadata": {},
   "outputs": [
    {
     "data": {
      "text/html": [
       "<div>\n",
       "<style scoped>\n",
       "    .dataframe tbody tr th:only-of-type {\n",
       "        vertical-align: middle;\n",
       "    }\n",
       "\n",
       "    .dataframe tbody tr th {\n",
       "        vertical-align: top;\n",
       "    }\n",
       "\n",
       "    .dataframe thead th {\n",
       "        text-align: right;\n",
       "    }\n",
       "</style>\n",
       "<table border=\"1\" class=\"dataframe\">\n",
       "  <thead>\n",
       "    <tr style=\"text-align: right;\">\n",
       "      <th></th>\n",
       "      <th>Date</th>\n",
       "      <th>Open</th>\n",
       "      <th>High</th>\n",
       "      <th>Low</th>\n",
       "      <th>Close</th>\n",
       "      <th>Adj Close</th>\n",
       "      <th>Volume</th>\n",
       "    </tr>\n",
       "  </thead>\n",
       "  <tbody>\n",
       "    <tr>\n",
       "      <th>1476</th>\n",
       "      <td>2021-12-27</td>\n",
       "      <td>16937.750000</td>\n",
       "      <td>17112.050781</td>\n",
       "      <td>16833.199219</td>\n",
       "      <td>17086.250000</td>\n",
       "      <td>17086.250000</td>\n",
       "      <td>144800.0</td>\n",
       "    </tr>\n",
       "    <tr>\n",
       "      <th>1477</th>\n",
       "      <td>2021-12-28</td>\n",
       "      <td>17177.599609</td>\n",
       "      <td>17250.250000</td>\n",
       "      <td>17161.150391</td>\n",
       "      <td>17233.250000</td>\n",
       "      <td>17233.250000</td>\n",
       "      <td>176000.0</td>\n",
       "    </tr>\n",
       "    <tr>\n",
       "      <th>1478</th>\n",
       "      <td>2021-12-29</td>\n",
       "      <td>17220.099609</td>\n",
       "      <td>17285.949219</td>\n",
       "      <td>17176.650391</td>\n",
       "      <td>17213.599609</td>\n",
       "      <td>17213.599609</td>\n",
       "      <td>161700.0</td>\n",
       "    </tr>\n",
       "    <tr>\n",
       "      <th>1479</th>\n",
       "      <td>2021-12-30</td>\n",
       "      <td>17201.449219</td>\n",
       "      <td>17264.050781</td>\n",
       "      <td>17146.349609</td>\n",
       "      <td>17203.949219</td>\n",
       "      <td>17203.949219</td>\n",
       "      <td>320800.0</td>\n",
       "    </tr>\n",
       "    <tr>\n",
       "      <th>1480</th>\n",
       "      <td>2021-12-31</td>\n",
       "      <td>17244.500000</td>\n",
       "      <td>17400.800781</td>\n",
       "      <td>17238.500000</td>\n",
       "      <td>17354.050781</td>\n",
       "      <td>17354.050781</td>\n",
       "      <td>167000.0</td>\n",
       "    </tr>\n",
       "  </tbody>\n",
       "</table>\n",
       "</div>"
      ],
      "text/plain": [
       "            Date          Open          High           Low         Close  \\\n",
       "1476  2021-12-27  16937.750000  17112.050781  16833.199219  17086.250000   \n",
       "1477  2021-12-28  17177.599609  17250.250000  17161.150391  17233.250000   \n",
       "1478  2021-12-29  17220.099609  17285.949219  17176.650391  17213.599609   \n",
       "1479  2021-12-30  17201.449219  17264.050781  17146.349609  17203.949219   \n",
       "1480  2021-12-31  17244.500000  17400.800781  17238.500000  17354.050781   \n",
       "\n",
       "         Adj Close    Volume  \n",
       "1476  17086.250000  144800.0  \n",
       "1477  17233.250000  176000.0  \n",
       "1478  17213.599609  161700.0  \n",
       "1479  17203.949219  320800.0  \n",
       "1480  17354.050781  167000.0  "
      ]
     },
     "execution_count": 5,
     "metadata": {},
     "output_type": "execute_result"
    }
   ],
   "source": [
    "train.tail()"
   ]
  },
  {
   "cell_type": "code",
   "execution_count": 6,
   "id": "2fb0131b",
   "metadata": {},
   "outputs": [
    {
     "name": "stdout",
     "output_type": "stream",
     "text": [
      "         Date         Open         High          Low        Close  \\\n",
      "0  2016-01-04  7924.549805  7937.549805  7781.100098  7791.299805   \n",
      "1  2016-01-05  7828.399902  7831.200195  7763.250000  7784.649902   \n",
      "2  2016-01-06  7788.049805  7800.950195  7721.200195  7741.000000   \n",
      "3  2016-01-07  7673.350098  7674.950195  7556.600098  7568.299805   \n",
      "4  2016-01-08  7611.649902  7634.100098  7581.049805  7601.350098   \n",
      "\n",
      "     Adj Close    Volume  \n",
      "0  7791.299805  134700.0  \n",
      "1  7784.649902  145200.0  \n",
      "2  7741.000000  147100.0  \n",
      "3  7568.299805  188900.0  \n",
      "4  7601.350098  157400.0  \n"
     ]
    }
   ],
   "source": [
    "print(train.head())"
   ]
  },
  {
   "cell_type": "code",
   "execution_count": 7,
   "id": "2480f03d",
   "metadata": {},
   "outputs": [
    {
     "data": {
      "text/plain": [
       "Date         0\n",
       "Open         6\n",
       "High         6\n",
       "Low          6\n",
       "Close        6\n",
       "Adj Close    6\n",
       "Volume       6\n",
       "dtype: int64"
      ]
     },
     "execution_count": 7,
     "metadata": {},
     "output_type": "execute_result"
    }
   ],
   "source": [
    "train.isnull().sum()   # checking null values"
   ]
  },
  {
   "cell_type": "code",
   "execution_count": 8,
   "id": "4b9078fb",
   "metadata": {},
   "outputs": [
    {
     "data": {
      "text/plain": [
       "<AxesSubplot:>"
      ]
     },
     "execution_count": 8,
     "metadata": {},
     "output_type": "execute_result"
    },
    {
     "data": {
      "image/png": "[encoded data removed]",
      "text/plain": [
       "<Figure size 432x288 with 1 Axes>"
      ]
     },
     "metadata": {
      "needs_background": "light"
     },
     "output_type": "display_data"
    }
   ],
   "source": [
    "sns.heatmap(train.isnull(),yticklabels=False,cbar=False,cmap='viridis')     # Alternative way of findind null values"
   ]
  },
  {
   "cell_type": "raw",
   "id": "091bcfcf",
   "metadata": {},
   "source": [
    "result: yellow line shows no.of missing values.(Alternative way to find missing values)"
   ]
  },
  {
   "cell_type": "code",
   "execution_count": 9,
   "id": "604f9658",
   "metadata": {},
   "outputs": [],
   "source": [
    "train[\"Open\"] = train[\"Open\"].fillna(method='ffill')   # trying to fill missing values\n",
    "train[\"High\"] = train[\"High\"].fillna(method='ffill')\n",
    "train[\"Close\"] = train[\"Close\"].fillna(method='ffill')\n",
    "train[\"Low\"] = train[\"Low\"].fillna(method='ffill')\n",
    "train[\"Adj Close\"] = train[\"Adj Close\"].fillna(method='ffill')\n",
    "train[\"Volume\"] = train[\"Volume\"].fillna(method='ffill')"
   ]
  },
  {
   "cell_type": "code",
   "execution_count": 10,
   "id": "97f37c22",
   "metadata": {},
   "outputs": [
    {
     "data": {
      "text/plain": [
       "<AxesSubplot:>"
      ]
     },
     "execution_count": 10,
     "metadata": {},
     "output_type": "execute_result"
    },
    {
     "data": {
      "image/png": "[encoded data removed]",
      "text/plain": [
       "<Figure size 432x288 with 1 Axes>"
      ]
     },
     "metadata": {
      "needs_background": "light"
     },
     "output_type": "display_data"
    }
   ],
   "source": [
    "sns.heatmap(train.isnull(),yticklabels=False,cbar=False,cmap='viridis')"
   ]
  },
  {
   "cell_type": "raw",
   "id": "5d38394c",
   "metadata": {},
   "source": [
    "Results : No null values in our data."
   ]
  },
  {
   "cell_type": "code",
   "execution_count": 11,
   "id": "1a7ca1c1",
   "metadata": {},
   "outputs": [],
   "source": [
    "# To get the number  of training days:"
   ]
  },
  {
   "cell_type": "code",
   "execution_count": 12,
   "id": "b31fb1c1",
   "metadata": {},
   "outputs": [
    {
     "name": "stdout",
     "output_type": "stream",
     "text": [
      "training days= (1481, 7)\n"
     ]
    }
   ],
   "source": [
    "print(\"training days=\",train.shape)"
   ]
  },
  {
   "cell_type": "markdown",
   "id": "3456c9ff",
   "metadata": {},
   "source": [
    "# To visiualize the close price data:"
   ]
  },
  {
   "cell_type": "code",
   "execution_count": 13,
   "id": "719618ec",
   "metadata": {},
   "outputs": [],
   "source": [
    "import matplotlib.pyplot as plt\n",
    "import seaborn as sns"
   ]
  },
  {
   "cell_type": "code",
   "execution_count": 14,
   "id": "14b64721",
   "metadata": {},
   "outputs": [],
   "source": [
    "sns.set()"
   ]
  },
  {
   "cell_type": "code",
   "execution_count": 15,
   "id": "b6b91c12",
   "metadata": {},
   "outputs": [
    {
     "data": {
      "image/png": "[encoded data removed]",
      "text/plain": [
       "<Figure size 720x288 with 1 Axes>"
      ]
     },
     "metadata": {},
     "output_type": "display_data"
    }
   ],
   "source": [
    "plt.figure(figsize=(10,4))\n",
    "plt.title(\"Stock Price\")\n",
    "plt.xlabel(\"Days\")\n",
    "plt.ylabel(\"Close Price USD($)\")\n",
    "plt.plot(train['Close'])\n",
    "plt.show()"
   ]
  },
  {
   "cell_type": "markdown",
   "id": "02f07d8b",
   "metadata": {},
   "source": [
    "#  To get close price"
   ]
  },
  {
   "cell_type": "code",
   "execution_count": 16,
   "id": "87329b75",
   "metadata": {},
   "outputs": [
    {
     "name": "stdout",
     "output_type": "stream",
     "text": [
      "         Close\n",
      "0  7791.299805\n",
      "1  7784.649902\n",
      "2  7741.000000\n",
      "3  7568.299805\n",
      "4  7601.350098\n"
     ]
    }
   ],
   "source": [
    "train=train[['Close']]\n",
    "print(train.head())"
   ]
  },
  {
   "cell_type": "markdown",
   "id": "68d20cc0",
   "metadata": {},
   "source": [
    "#  creating a variable to predict 'X' days in the future"
   ]
  },
  {
   "cell_type": "code",
   "execution_count": 17,
   "id": "59dd2ed4",
   "metadata": {},
   "outputs": [],
   "source": [
    "futureDays=25"
   ]
  },
  {
   "cell_type": "code",
   "execution_count": 18,
   "id": "cb4ac304",
   "metadata": {},
   "outputs": [],
   "source": [
    "#Create a new target column shifted 'X' units/day:"
   ]
  },
  {
   "cell_type": "code",
   "execution_count": 19,
   "id": "d124a520",
   "metadata": {},
   "outputs": [
    {
     "name": "stdout",
     "output_type": "stream",
     "text": [
      "         Close   Prediction\n",
      "0  7791.299805  7298.200195\n",
      "1  7784.649902  7215.700195\n",
      "2  7741.000000  6976.350098\n",
      "3  7568.299805  6980.950195\n",
      "4  7601.350098  7162.950195\n"
     ]
    }
   ],
   "source": [
    "train[\"Prediction\"]=train[[\"Close\"]].shift(-futureDays)\n",
    "print(train.head())"
   ]
  },
  {
   "cell_type": "code",
   "execution_count": 20,
   "id": "31746f2b",
   "metadata": {},
   "outputs": [
    {
     "name": "stdout",
     "output_type": "stream",
     "text": [
      "             Close  Prediction\n",
      "1476  17086.250000         NaN\n",
      "1477  17233.250000         NaN\n",
      "1478  17213.599609         NaN\n",
      "1479  17203.949219         NaN\n",
      "1480  17354.050781         NaN\n"
     ]
    }
   ],
   "source": [
    "print(train.tail())"
   ]
  },
  {
   "cell_type": "raw",
   "id": "4e13029c",
   "metadata": {},
   "source": [
    "To create a feature dataset (X) and convert into a numy aray and remove last'X' rows/day"
   ]
  },
  {
   "cell_type": "code",
   "execution_count": 22,
   "id": "54e7a3d3",
   "metadata": {},
   "outputs": [
    {
     "name": "stdout",
     "output_type": "stream",
     "text": [
      "[[ 7791.299805]\n",
      " [ 7784.649902]\n",
      " [ 7741.      ]\n",
      " ...\n",
      " [17415.050781]\n",
      " [17536.25    ]\n",
      " [17026.449219]]\n"
     ]
    }
   ],
   "source": [
    "import numpy as np\n",
    "X=np.array(train.drop([\"Prediction\"],1))[:-futureDays]\n",
    "print(X)"
   ]
  },
  {
   "cell_type": "raw",
   "id": "a28a0aa8",
   "metadata": {},
   "source": [
    "To convert a target dataset(y) and convert it into a numpy array and get all of the target values except the last'X' rows days:"
   ]
  },
  {
   "cell_type": "code",
   "execution_count": 23,
   "id": "4f8f7972",
   "metadata": {},
   "outputs": [
    {
     "name": "stdout",
     "output_type": "stream",
     "text": [
      "[ 7298.200195  7215.700195  6976.350098 ... 17213.599609 17203.949219\n",
      " 17354.050781]\n"
     ]
    }
   ],
   "source": [
    "y=np.array(train[\"Prediction\"])[:-futureDays]\n",
    "print(y)"
   ]
  },
  {
   "cell_type": "markdown",
   "id": "6476951a",
   "metadata": {},
   "source": [
    "# Split the data into 75% training and 25% testing"
   ]
  },
  {
   "cell_type": "code",
   "execution_count": 24,
   "id": "e8f5fe6c",
   "metadata": {},
   "outputs": [],
   "source": [
    "from sklearn.model_selection import train_test_split\n",
    "Xtrain,Xtest,ytrain,ytest=train_test_split(X,y,test_size=0.25)"
   ]
  },
  {
   "cell_type": "markdown",
   "id": "cefd0ff9",
   "metadata": {},
   "source": [
    "# Creating model"
   ]
  },
  {
   "cell_type": "code",
   "execution_count": 25,
   "id": "e194e7bd",
   "metadata": {},
   "outputs": [],
   "source": [
    "# creating the decision tree regression model\n",
    "from sklearn.tree import DecisionTreeRegressor"
   ]
  },
  {
   "cell_type": "code",
   "execution_count": 49,
   "id": "a527fd7f",
   "metadata": {},
   "outputs": [],
   "source": [
    "tree=DecisionTreeRegressor().fit(Xtrain,ytrain)"
   ]
  },
  {
   "cell_type": "code",
   "execution_count": 50,
   "id": "27e0360e",
   "metadata": {},
   "outputs": [],
   "source": [
    "# creating the  Linear Regression model\n",
    "from sklearn.linear_model import LinearRegression\n",
    "linear=LinearRegression().fit(Xtrain,ytrain)"
   ]
  },
  {
   "cell_type": "raw",
   "id": "47f62515",
   "metadata": {},
   "source": [
    "To get the last 'X rows/days of the feature dataset:\n"
   ]
  },
  {
   "cell_type": "code",
   "execution_count": 51,
   "id": "7a053786",
   "metadata": {},
   "outputs": [
    {
     "name": "stdout",
     "output_type": "stream",
     "text": [
      "[[18178.099609]\n",
      " [18114.900391]\n",
      " [18125.400391]\n",
      " [18268.400391]\n",
      " [18210.949219]\n",
      " [17857.25    ]\n",
      " [17671.650391]\n",
      " [17929.650391]\n",
      " [17888.949219]\n",
      " [17829.199219]\n",
      " [17916.800781]\n",
      " [18068.550781]\n",
      " [18044.25    ]\n",
      " [18017.199219]\n",
      " [17873.599609]\n",
      " [18102.75    ]\n",
      " [18109.449219]\n",
      " [17999.199219]\n",
      " [17898.650391]\n",
      " [17764.800781]\n",
      " [17416.550781]\n",
      " [17503.349609]\n",
      " [17415.050781]\n",
      " [17536.25    ]\n",
      " [17026.449219]]\n"
     ]
    }
   ],
   "source": [
    "Xfuture=train.drop(['Prediction'],1)[:-futureDays]\n",
    "Xfuture=Xfuture.tail(futureDays)\n",
    "Xfuture=np.array(Xfuture)\n",
    "print(Xfuture)"
   ]
  },
  {
   "cell_type": "markdown",
   "id": "12ca4eea",
   "metadata": {},
   "source": [
    "#  To see the model tree prediction\n"
   ]
  },
  {
   "cell_type": "code",
   "execution_count": 52,
   "id": "ea439c88",
   "metadata": {},
   "outputs": [
    {
     "name": "stdout",
     "output_type": "stream",
     "text": [
      "Decision Tree prediction= [17053.949219 16983.199219 17166.900391 17401.650391 17053.949219\n",
      " 16912.25     18102.75     17368.25     17516.849609 17671.650391\n",
      " 17368.25     17324.900391 17324.900391 17248.400391 16985.199219\n",
      " 16770.849609 16770.849609 17248.400391 17072.599609 17003.75\n",
      " 17086.25     18044.25     17213.599609 17203.949219 17790.349609]\n"
     ]
    }
   ],
   "source": [
    "treePrediction= tree.predict(Xfuture)\n",
    "print(\"Decision Tree prediction=\",treePrediction)"
   ]
  },
  {
   "cell_type": "markdown",
   "id": "e26498b4",
   "metadata": {},
   "source": [
    "#  To see the model Linear Regression prediction"
   ]
  },
  {
   "cell_type": "code",
   "execution_count": 53,
   "id": "364c752d",
   "metadata": {},
   "outputs": [
    {
     "name": "stdout",
     "output_type": "stream",
     "text": [
      "Linear regression Prediction= [18321.49261481 18258.63747272 18269.08030751 18411.30177168\n",
      " 18354.16338147 18002.38980942 17817.80066157 18074.3960305\n",
      " 18033.91644815 17974.49174546 18061.61637771 18212.54020421\n",
      " 18188.3717241  18161.46821585 18018.65040613 18246.55323218\n",
      " 18253.21597857 18143.56621336 18043.564804   17910.4439123\n",
      " 17564.08989203 17650.4161606  17562.59805849 17683.13743179\n",
      " 17176.11216249]\n"
     ]
    }
   ],
   "source": [
    "linearPrediction=linear.predict(Xfuture)\n",
    "print(\"Linear regression Prediction=\",linearPrediction)"
   ]
  },
  {
   "cell_type": "markdown",
   "id": "f9c3f274",
   "metadata": {},
   "source": [
    "# Visualize decision tree prediction"
   ]
  },
  {
   "cell_type": "code",
   "execution_count": 54,
   "id": "04dd8c89",
   "metadata": {},
   "outputs": [
    {
     "name": "stderr",
     "output_type": "stream",
     "text": [
      "<ipython-input-54-e360f5a71620>:3: SettingWithCopyWarning: \n",
      "A value is trying to be set on a copy of a slice from a DataFrame.\n",
      "Try using .loc[row_indexer,col_indexer] = value instead\n",
      "\n",
      "See the caveats in the documentation: https://pandas.pydata.org/pandas-docs/stable/user_guide/indexing.html#returning-a-view-versus-a-copy\n",
      "  valid[\"Predictions\"]=predictions\n"
     ]
    }
   ],
   "source": [
    "predictions=treePrediction\n",
    "valid=train[X.shape[0]:]\n",
    "valid[\"Predictions\"]=predictions\n"
   ]
  },
  {
   "cell_type": "code",
   "execution_count": 55,
   "id": "1ffd0e92",
   "metadata": {},
   "outputs": [
    {
     "data": {
      "image/png": "[encoded data removed]",
      "text/plain": [
       "<Figure size 864x576 with 1 Axes>"
      ]
     },
     "metadata": {},
     "output_type": "display_data"
    }
   ],
   "source": [
    "plt.figure(figsize=(12,8))\n",
    "plt.title(\"Stock Price Prediction Model(Decision Tree Regression Model)\")\n",
    "plt.xlabel(\"Days\")\n",
    "plt.ylabel(\"Close Price USD ($)\")\n",
    "plt.plot(train[\"Close\"])\n",
    "plt.plot(valid[[\"Close\",\"Predictions\"]])\n",
    "plt.legend([\"Original\",\"Valid\",\"Predictions\"])\n",
    "plt.show()\n"
   ]
  },
  {
   "cell_type": "markdown",
   "id": "7ad40fad",
   "metadata": {},
   "source": [
    "# Visualize the linear model predictions"
   ]
  },
  {
   "cell_type": "code",
   "execution_count": 56,
   "id": "ab3ded90",
   "metadata": {},
   "outputs": [
    {
     "name": "stderr",
     "output_type": "stream",
     "text": [
      "<ipython-input-56-ce2f9cd3c748>:3: SettingWithCopyWarning: \n",
      "A value is trying to be set on a copy of a slice from a DataFrame.\n",
      "Try using .loc[row_indexer,col_indexer] = value instead\n",
      "\n",
      "See the caveats in the documentation: https://pandas.pydata.org/pandas-docs/stable/user_guide/indexing.html#returning-a-view-versus-a-copy\n",
      "  valid[\"Predictions\"]=predictions\n"
     ]
    }
   ],
   "source": [
    "predictions=linearPrediction\n",
    "valid=train[X.shape[0]:]\n",
    "valid[\"Predictions\"]=predictions"
   ]
  },
  {
   "cell_type": "code",
   "execution_count": 57,
   "id": "63057b1d",
   "metadata": {},
   "outputs": [
    {
     "data": {
      "image/png": "[encoded data removed]",
      "text/plain": [
       "<Figure size 864x576 with 1 Axes>"
      ]
     },
     "metadata": {},
     "output_type": "display_data"
    }
   ],
   "source": [
    "plt.figure(figsize=(12,8))\n",
    "plt.title(\"Stock Price Prediction Model(Linear Regression  Model)\")\n",
    "plt.xlabel(\"Days\")\n",
    "plt.ylabel(\"Close Price USD ($)\")\n",
    "plt.plot(train[\"Close\"])\n",
    "plt.plot(valid[[\"Close\",\"Predictions\"]])\n",
    "plt.legend([\"Original\",\"Valid\",\"Predictions\"])\n",
    "plt.show()"
   ]
  },
  {
   "cell_type": "code",
   "execution_count": null,
   "id": "0278831e",
   "metadata": {},
   "outputs": [],
   "source": []
  }
 ],
 "metadata": {
  "kernelspec": {
   "display_name": "Python 3",
   "language": "python",
   "name": "python3"
  },
  "language_info": {
   "codemirror_mode": {
    "name": "ipython",
    "version": 3
   },
   "file_extension": ".py",
   "mimetype": "text/x-python",
   "name": "python",
   "nbconvert_exporter": "python",
   "pygments_lexer": "ipython3",
   "version": "3.8.8"
  }
 },
 "nbformat": 4,
 "nbformat_minor": 5
}
